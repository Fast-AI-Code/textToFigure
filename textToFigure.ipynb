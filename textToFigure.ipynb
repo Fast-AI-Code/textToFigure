{
 "cells": [
  {
   "cell_type": "markdown",
   "metadata": {
    "toc": true
   },
   "source": [
    "<h1>Table of Contents<span class=\"tocSkip\"></span></h1>\n",
    "<div class=\"toc\"><ul class=\"toc-item\"><li><span><a href=\"#Imports\" data-toc-modified-id=\"Imports-1\"><span class=\"toc-item-num\">1&nbsp;&nbsp;</span>Imports</a></span></li><li><span><a href=\"#Basic-Implementation\" data-toc-modified-id=\"Basic-Implementation-2\"><span class=\"toc-item-num\">2&nbsp;&nbsp;</span>Basic Implementation</a></span></li><li><span><a href=\"#Training-model\" data-toc-modified-id=\"Training-model-3\"><span class=\"toc-item-num\">3&nbsp;&nbsp;</span>Training model</a></span><ul class=\"toc-item\"><li><span><a href=\"#Sample-generation\" data-toc-modified-id=\"Sample-generation-3.1\"><span class=\"toc-item-num\">3.1&nbsp;&nbsp;</span>Sample generation</a></span></li><li><span><a href=\"#Actual-training\" data-toc-modified-id=\"Actual-training-3.2\"><span class=\"toc-item-num\">3.2&nbsp;&nbsp;</span>Actual training</a></span></li></ul></li><li><span><a href=\"#Drawing-and-testing\" data-toc-modified-id=\"Drawing-and-testing-4\"><span class=\"toc-item-num\">4&nbsp;&nbsp;</span>Drawing and testing</a></span><ul class=\"toc-item\"><li><span><a href=\"#Preprocess\" data-toc-modified-id=\"Preprocess-4.1\"><span class=\"toc-item-num\">4.1&nbsp;&nbsp;</span>Preprocess</a></span></li><li><span><a href=\"#Query\" data-toc-modified-id=\"Query-4.2\"><span class=\"toc-item-num\">4.2&nbsp;&nbsp;</span>Query</a></span></li></ul></li></ul></div>"
   ]
  },
  {
   "cell_type": "markdown",
   "metadata": {},
   "source": [
    "# Imports"
   ]
  },
  {
   "cell_type": "code",
   "execution_count": 204,
   "metadata": {
    "ExecuteTime": {
     "end_time": "2019-06-09T11:52:20.728037Z",
     "start_time": "2019-06-09T11:52:20.724296Z"
    },
    "run_control": {
     "marked": false
    }
   },
   "outputs": [],
   "source": [
    "import cv2\n",
    "import numpy as np\n",
    "import matplotlib.pyplot as plt\n",
    "import spacy\n",
    "import random"
   ]
  },
  {
   "cell_type": "code",
   "execution_count": 9,
   "metadata": {
    "ExecuteTime": {
     "end_time": "2019-06-09T06:33:18.295562Z",
     "start_time": "2019-06-09T06:33:18.091493Z"
    },
    "run_control": {
     "marked": false
    }
   },
   "outputs": [],
   "source": [
    "nlp = spacy.load('en_core_web_sm')"
   ]
  },
  {
   "cell_type": "markdown",
   "metadata": {},
   "source": [
    "# Basic Implementation"
   ]
  },
  {
   "cell_type": "code",
   "execution_count": 109,
   "metadata": {
    "ExecuteTime": {
     "end_time": "2019-06-09T09:24:03.183135Z",
     "start_time": "2019-06-09T09:24:03.167744Z"
    },
    "run_control": {
     "marked": false
    }
   },
   "outputs": [],
   "source": [
    "string = nlp('draw a circle of radius 5.2')"
   ]
  },
  {
   "cell_type": "code",
   "execution_count": 110,
   "metadata": {
    "ExecuteTime": {
     "end_time": "2019-06-09T09:24:03.211994Z",
     "start_time": "2019-06-09T09:24:03.197629Z"
    },
    "run_control": {
     "marked": false
    }
   },
   "outputs": [
    {
     "data": {
      "text/html": [
       "<div class=\"entities\" style=\"line-height: 2.5; direction: ltr\">draw a circle of radius \n",
       "<mark class=\"entity\" style=\"background: #e4e7d2; padding: 0.45em 0.6em; margin: 0 0.25em; line-height: 1; border-radius: 0.35em; box-decoration-break: clone; -webkit-box-decoration-break: clone\">\n",
       "    5.2\n",
       "    <span style=\"font-size: 0.8em; font-weight: bold; line-height: 1; border-radius: 0.35em; text-transform: uppercase; vertical-align: middle; margin-left: 0.5rem\">CARDINAL</span>\n",
       "</mark>\n",
       "</div>"
      ],
      "text/plain": [
       "<IPython.core.display.HTML object>"
      ]
     },
     "metadata": {},
     "output_type": "display_data"
    }
   ],
   "source": [
    "from spacy import displacy\n",
    "displacy.render(string, style=\"ent\")"
   ]
  },
  {
   "cell_type": "code",
   "execution_count": 111,
   "metadata": {
    "ExecuteTime": {
     "end_time": "2019-06-09T09:24:03.238373Z",
     "start_time": "2019-06-09T09:24:03.226984Z"
    },
    "run_control": {
     "marked": false
    }
   },
   "outputs": [
    {
     "name": "stdout",
     "output_type": "stream",
     "text": [
      "5.2 CARDINAL\n"
     ]
    }
   ],
   "source": [
    "for a in string.ents:\n",
    "    print(a, a.label_)"
   ]
  },
  {
   "cell_type": "markdown",
   "metadata": {},
   "source": [
    "# Training model"
   ]
  },
  {
   "cell_type": "markdown",
   "metadata": {},
   "source": [
    "## Sample generation\n",
    "```\n",
    "train_data = [\n",
    "    (\"Uber blew through $1 million a week\", [(0, 4, 'ORG')]),\n",
    "    (\"Android Pay expands to Canada\", [(0, 11, 'PRODUCT'), (23, 30, 'GPE')]),\n",
    "    (\"Spotify steps up Asia expansion\", [(0, 8, \"ORG\"), (17, 21, \"LOC\")]),\n",
    "    (\"Google Maps launches location sharing\", [(0, 11, \"PRODUCT\")]),\n",
    "    (\"Google rebrands its business apps\", [(0, 6, \"ORG\")]),\n",
    "    (\"look what i found on google! 😂\", [(21, 27, \"PRODUCT\")])]\n",
    "```"
   ]
  },
  {
   "cell_type": "code",
   "execution_count": 138,
   "metadata": {
    "ExecuteTime": {
     "end_time": "2019-06-09T09:48:06.077079Z",
     "start_time": "2019-06-09T09:48:06.068675Z"
    }
   },
   "outputs": [],
   "source": [
    "dict_sentences = [\n",
    "    'Draw a circle of radius 30', 'Draw a circle',\n",
    "    'Draw 10 circles of radius 30', 'Draw a circle of radius 5.2',\n",
    "    'Draw a rectangle of width 5 and length 10', 'Draw a triangle of side 10',\n",
    "    'Draw a traingle of sides 10, 20, 30',\n",
    "    'Draw a quadrilateral of sides 10, 20, 30 ,40',\n",
    "    'Draw circle of radius 100', 'Draw 2 circles of radius 10',\n",
    "    'Draw 30 triangles of side 5'\n",
    "]"
   ]
  },
  {
   "cell_type": "code",
   "execution_count": 139,
   "metadata": {
    "ExecuteTime": {
     "end_time": "2019-06-09T09:48:06.086977Z",
     "start_time": "2019-06-09T09:48:06.081389Z"
    },
    "run_control": {
     "marked": false
    }
   },
   "outputs": [],
   "source": [
    "lis = []"
   ]
  },
  {
   "cell_type": "code",
   "execution_count": 140,
   "metadata": {
    "ExecuteTime": {
     "end_time": "2019-06-09T09:48:32.779145Z",
     "start_time": "2019-06-09T09:48:06.094355Z"
    },
    "run_control": {
     "marked": false
    },
    "scrolled": true
   },
   "outputs": [
    {
     "name": "stdout",
     "output_type": "stream",
     "text": [
      "Draw a circle of radius 30\n",
      "Enter word circle\n",
      "Draw a circle\n",
      "Enter word circle\n",
      "Draw 10 circles of radius 30\n",
      "Enter word circles\n",
      "Draw a circle of radius 5.2\n",
      "Enter word circle\n",
      "Draw a rectangle of width 5 and length 10\n",
      "Enter word rectangle\n",
      "Draw a triangle of side 10\n",
      "Enter word triangle\n",
      "Draw a traingle of sides 10, 20, 30\n",
      "Enter word traingle\n",
      "Draw a quadrilateral of sides 10, 20, 30 ,40\n",
      "Enter word quadrilateral\n",
      "Draw circle of radius 100\n",
      "Enter word circle\n",
      "Draw 2 circles of radius 10\n",
      "Enter word circles\n",
      "Draw 30 triangles of side 5\n",
      "Enter word triangles\n",
      "[('Draw a circle of radius 30', {'entities': [(7, 14, 'FIG'), (24, 26, 'NUM')]}), ('Draw a circle', {'entities': [(7, 13, 'FIG')]}), ('Draw 10 circles of radius 30', {'entities': [(8, 14, 'FIG'), (5, 7, 'NUM'), (26, 28, 'NUM')]}), ('Draw a circle of radius 5.2', {'entities': [(7, 14, 'FIG'), (24, 27, 'NUM')]}), ('Draw a rectangle of width 5 and length 10', {'entities': [(7, 16, 'FIG'), (26, 27, 'NUM'), (39, 41, 'NUM')]}), ('Draw a triangle of side 10', {'entities': [(7, 15, 'FIG'), (24, 26, 'NUM')]}), ('Draw a traingle of sides 10, 20, 30', {'entities': [(7, 15, 'FIG'), (25, 27, 'NUM'), (29, 31, 'NUM'), (33, 35, 'NUM')]}), ('Draw a quadrilateral of sides 10, 20, 30 ,40', {'entities': [(7, 20, 'FIG'), (30, 32, 'NUM'), (34, 36, 'NUM'), (38, 40, 'NUM'), (42, 44, 'NUM')]}), ('Draw circle of radius 100', {'entities': [(5, 13, 'FIG'), (22, 25, 'NUM')]}), ('Draw 2 circles of radius 10', {'entities': [(7, 12, 'FIG'), (5, 6, 'NUM'), (25, 27, 'NUM')]}), ('Draw 30 triangles of side 5', {'entities': [(8, 16, 'FIG'), (5, 7, 'NUM'), (26, 27, 'NUM')]})]\n"
     ]
    }
   ],
   "source": [
    "import re\n",
    "pat = re.compile(r\"\\d+\\.?\\d*\")\n",
    "for a in dict_sentences:\n",
    "    print(a)\n",
    "\n",
    "    p = input('Enter word ')\n",
    "\n",
    "    temp, temp_end = a.find(p), temp + len(p)\n",
    "    tu = [(temp, temp_end, 'FIG')]\n",
    "    for m in pat.finditer(a):\n",
    "        tu.append(tuple([m.span()[0], m.span()[1], 'NUM']))\n",
    "    lis.append((a, {'entities': tu}))\n",
    "print(lis)"
   ]
  },
  {
   "cell_type": "markdown",
   "metadata": {},
   "source": [
    "## Actual training"
   ]
  },
  {
   "cell_type": "code",
   "execution_count": 141,
   "metadata": {
    "ExecuteTime": {
     "end_time": "2019-06-09T09:49:03.344508Z",
     "start_time": "2019-06-09T09:48:40.265116Z"
    },
    "scrolled": true
   },
   "outputs": [
    {
     "name": "stdout",
     "output_type": "stream",
     "text": [
      "Starting iteration 0\n",
      "{'ner': 45.6113984240219}\n",
      "Starting iteration 1\n",
      "{'ner': 26.32943755176244}\n",
      "Starting iteration 2\n",
      "{'ner': 10.440998929348202}\n",
      "Starting iteration 3\n",
      "{'ner': 1.0530521126896728}\n",
      "Starting iteration 4\n",
      "{'ner': 0.0022544853464662408}\n",
      "Starting iteration 5\n",
      "{'ner': 9.738363844986059e-06}\n",
      "Starting iteration 6\n",
      "{'ner': 9.41810254884281e-07}\n",
      "Starting iteration 7\n",
      "{'ner': 3.7343472635745327e-07}\n",
      "Starting iteration 8\n",
      "{'ner': 1.2178455728350623e-05}\n",
      "Starting iteration 9\n",
      "{'ner': 1.759778372297217e-06}\n",
      "Starting iteration 10\n",
      "{'ner': 4.3961379827552146e-07}\n",
      "Starting iteration 11\n",
      "{'ner': 6.656032880222721e-08}\n",
      "Starting iteration 12\n",
      "{'ner': 3.5905338105027613e-06}\n",
      "Starting iteration 13\n",
      "{'ner': 4.6894586140868704e-08}\n",
      "Starting iteration 14\n",
      "{'ner': 3.4217392559236624e-07}\n",
      "Starting iteration 15\n",
      "{'ner': 4.5270659144015363e-08}\n",
      "Starting iteration 16\n",
      "{'ner': 1.0707918385703011e-07}\n",
      "Starting iteration 17\n",
      "{'ner': 7.202125527512234e-07}\n",
      "Starting iteration 18\n",
      "{'ner': 2.74530554418655e-08}\n",
      "Starting iteration 19\n",
      "{'ner': 2.9613120396165386e-08}\n",
      "Starting iteration 20\n",
      "{'ner': 8.293028792020441e-06}\n",
      "Starting iteration 21\n",
      "{'ner': 1.6988992590501859e-07}\n",
      "Starting iteration 22\n",
      "{'ner': 1.5880748902740236e-07}\n",
      "Starting iteration 23\n",
      "{'ner': 6.4188413948921e-08}\n",
      "Starting iteration 24\n",
      "{'ner': 2.9981991182412017e-08}\n",
      "Starting iteration 25\n",
      "{'ner': 7.072277245958219e-09}\n",
      "Starting iteration 26\n",
      "{'ner': 1.301224395652424e-07}\n",
      "Starting iteration 27\n",
      "{'ner': 1.03946606437762e-07}\n",
      "Starting iteration 28\n",
      "{'ner': 9.440600034441848e-08}\n",
      "Starting iteration 29\n",
      "{'ner': 3.306271561756031e-08}\n",
      "Starting iteration 30\n",
      "{'ner': 2.198083432127224e-07}\n",
      "Starting iteration 31\n",
      "{'ner': 4.4412805936727234e-08}\n",
      "Starting iteration 32\n",
      "{'ner': 5.267631460644043e-07}\n",
      "Starting iteration 33\n",
      "{'ner': 2.0603039836788802e-07}\n",
      "Starting iteration 34\n",
      "{'ner': 3.5335405396870185e-09}\n",
      "Starting iteration 35\n",
      "{'ner': 8.88322903771866e-09}\n",
      "Starting iteration 36\n",
      "{'ner': 2.2727706760503286e-08}\n",
      "Starting iteration 37\n",
      "{'ner': 5.977953762326189e-08}\n",
      "Starting iteration 38\n",
      "{'ner': 6.311722821647254e-09}\n",
      "Starting iteration 39\n",
      "{'ner': 5.5075441574074444e-09}\n",
      "Starting iteration 40\n",
      "{'ner': 1.1038629918695695e-07}\n",
      "Starting iteration 41\n",
      "{'ner': 2.6616028157715045e-06}\n",
      "Starting iteration 42\n",
      "{'ner': 8.577311023048236e-08}\n",
      "Starting iteration 43\n",
      "{'ner': 1.6727524040731124e-07}\n",
      "Starting iteration 44\n",
      "{'ner': 1.835701683299705e-08}\n",
      "Starting iteration 45\n",
      "{'ner': 5.621520658993621e-08}\n",
      "Starting iteration 46\n",
      "{'ner': 3.049474988522458e-09}\n",
      "Starting iteration 47\n",
      "{'ner': 2.0685352413072987e-08}\n",
      "Starting iteration 48\n",
      "{'ner': 9.007936827180877e-09}\n",
      "Starting iteration 49\n",
      "{'ner': 1.635515513127259e-08}\n",
      "Starting iteration 50\n",
      "{'ner': 1.4882420191714868e-08}\n",
      "Starting iteration 51\n",
      "{'ner': 1.845930463695394e-09}\n",
      "Starting iteration 52\n",
      "{'ner': 2.3009200045793347e-09}\n",
      "Starting iteration 53\n",
      "{'ner': 3.4283615775564474e-08}\n",
      "Starting iteration 54\n",
      "{'ner': 3.937344476134507e-09}\n",
      "Starting iteration 55\n",
      "{'ner': 6.893885694664235e-09}\n",
      "Starting iteration 56\n",
      "{'ner': 2.0185395054743387e-08}\n",
      "Starting iteration 57\n",
      "{'ner': 6.131033989647877e-10}\n",
      "Starting iteration 58\n",
      "{'ner': 4.5402807842985006e-10}\n",
      "Starting iteration 59\n",
      "{'ner': 1.1773909454465487e-09}\n",
      "Starting iteration 60\n",
      "{'ner': 1.4258022276493363e-08}\n",
      "Starting iteration 61\n",
      "{'ner': 3.707994861378923e-09}\n",
      "Starting iteration 62\n",
      "{'ner': 1.182224562870479e-09}\n",
      "Starting iteration 63\n",
      "{'ner': 1.1343232797119786e-08}\n",
      "Starting iteration 64\n",
      "{'ner': 1.880912598671414e-09}\n",
      "Starting iteration 65\n",
      "{'ner': 2.3732082280291277e-09}\n",
      "Starting iteration 66\n",
      "{'ner': 5.5587560022212474e-09}\n",
      "Starting iteration 67\n",
      "{'ner': 2.4859186054851405e-09}\n",
      "Starting iteration 68\n",
      "{'ner': 6.762300655706635e-09}\n",
      "Starting iteration 69\n",
      "{'ner': 2.6442317406398887e-09}\n",
      "Starting iteration 70\n",
      "{'ner': 7.411827100000682e-10}\n",
      "Starting iteration 71\n",
      "{'ner': 1.8351428777766547e-09}\n",
      "Starting iteration 72\n",
      "{'ner': 2.0602350021444066e-09}\n",
      "Starting iteration 73\n",
      "{'ner': 2.0861432346656495e-08}\n",
      "Starting iteration 74\n",
      "{'ner': 1.3353935974974232e-09}\n",
      "Starting iteration 75\n",
      "{'ner': 3.438933172778149e-10}\n",
      "Starting iteration 76\n",
      "{'ner': 1.192616556331182e-08}\n",
      "Starting iteration 77\n",
      "{'ner': 1.1335769614354872e-09}\n",
      "Starting iteration 78\n",
      "{'ner': 3.707434393388674e-10}\n",
      "Starting iteration 79\n",
      "{'ner': 9.631197414857931e-10}\n",
      "Starting iteration 80\n",
      "{'ner': 5.264259898382273e-09}\n",
      "Starting iteration 81\n",
      "{'ner': 1.1197791893888483e-07}\n",
      "Starting iteration 82\n",
      "{'ner': 8.311492076540951e-10}\n",
      "Starting iteration 83\n",
      "{'ner': 3.3345321884116054e-10}\n",
      "Starting iteration 84\n",
      "{'ner': 4.456107280596976e-09}\n",
      "Starting iteration 85\n",
      "{'ner': 4.138688133290606e-09}\n",
      "Starting iteration 86\n",
      "{'ner': 1.1139963217873215e-10}\n",
      "Starting iteration 87\n",
      "{'ner': 6.3902447503054306e-09}\n",
      "Starting iteration 88\n",
      "{'ner': 2.2717505575209816e-09}\n",
      "Starting iteration 89\n",
      "{'ner': 3.94938431484835e-07}\n",
      "Starting iteration 90\n",
      "{'ner': 3.140803081044553e-09}\n",
      "Starting iteration 91\n",
      "{'ner': 4.322719103632252e-10}\n",
      "Starting iteration 92\n",
      "{'ner': 1.1917819387421358e-09}\n",
      "Starting iteration 93\n",
      "{'ner': 1.2623174037328622e-09}\n",
      "Starting iteration 94\n",
      "{'ner': 3.51344207731726e-10}\n",
      "Starting iteration 95\n",
      "{'ner': 8.934893192003065e-09}\n",
      "Starting iteration 96\n",
      "{'ner': 1.1654144488454329e-09}\n",
      "Starting iteration 97\n",
      "{'ner': 2.9342594531796235e-10}\n",
      "Starting iteration 98\n",
      "{'ner': 4.674644202496969e-10}\n",
      "Starting iteration 99\n",
      "{'ner': 8.889253937145781e-10}\n"
     ]
    }
   ],
   "source": [
    "def train_spacy(data, iterations):\n",
    "    lis = data\n",
    "    nlp = spacy.blank('en')\n",
    "    if 'ner' not in nlp.pipe_names:\n",
    "        ner = nlp.create_pipe('ner')\n",
    "        nlp.add_pipe(ner, last=True)\n",
    "\n",
    "    for _, annotations in lis:\n",
    "        for ent in annotations.get('entities'):\n",
    "            ner.add_label(ent[2])\n",
    "\n",
    "    other_pipes = [pipe for pipe in nlp.pipe_names if pipe != 'ner']\n",
    "    with nlp.disable_pipes(*other_pipes):\n",
    "        optimizer = nlp.begin_training()\n",
    "        for itn in range(iterations):\n",
    "            print(\"Starting iteration \" + str(itn))\n",
    "            random.shuffle(lis)\n",
    "            losses = {}\n",
    "            for text, annotations in lis:\n",
    "                nlp.update([text], [annotations],\n",
    "                           drop=0.2,\n",
    "                           sgd=optimizer,\n",
    "                           losses=losses)\n",
    "            print(losses)\n",
    "    return nlp\n",
    "\n",
    "\n",
    "prdnlp = train_spacy(lis, 100)\n",
    "# modelfile = input(\"Enter your Model Name: \")\n",
    "prdnlp.to_disk('model/modelfinal')"
   ]
  },
  {
   "cell_type": "markdown",
   "metadata": {},
   "source": [
    "# Drawing and testing"
   ]
  },
  {
   "cell_type": "code",
   "execution_count": 142,
   "metadata": {
    "ExecuteTime": {
     "end_time": "2019-06-09T09:49:03.500615Z",
     "start_time": "2019-06-09T09:49:03.348025Z"
    }
   },
   "outputs": [],
   "source": [
    "nlp = spacy.load('model/modelfinal/')"
   ]
  },
  {
   "cell_type": "markdown",
   "metadata": {},
   "source": [
    "## Preprocess"
   ]
  },
  {
   "cell_type": "code",
   "execution_count": 201,
   "metadata": {
    "ExecuteTime": {
     "end_time": "2019-06-09T10:04:37.035245Z",
     "start_time": "2019-06-09T10:04:37.024427Z"
    }
   },
   "outputs": [],
   "source": [
    "def preprocess(query):\n",
    "    no_of_figures = 0\n",
    "    figure = ''\n",
    "    dimensions = []\n",
    "    query = query.lower().replace(',', ' ')\n",
    "    query = re.sub(r'[^a-zA-Z0-9 ]', \"\", query)\n",
    "    for a in nlp(query).ents:\n",
    "        if a.label_ == 'NUM' and figure == '':\n",
    "            no_of_figures = int(a.text)\n",
    "        elif a.label_ == 'NUM':\n",
    "            dimensions.append(int(a.text))\n",
    "        elif a.label_ == 'FIG':\n",
    "            figure = a.text\n",
    "    \n",
    "    return [no_of_figures,figure,dimensions]"
   ]
  },
  {
   "cell_type": "markdown",
   "metadata": {},
   "source": [
    "## Query"
   ]
  },
  {
   "cell_type": "code",
   "execution_count": 323,
   "metadata": {
    "ExecuteTime": {
     "end_time": "2019-06-09T13:38:10.498407Z",
     "start_time": "2019-06-09T13:38:10.487677Z"
    },
    "run_control": {
     "marked": true
    }
   },
   "outputs": [],
   "source": [
    "def main(query):\n",
    "    no_of_figures,fig_name,dim = preprocess(query)\n",
    "\n",
    "    img = np.ones((500,500,3), np.uint8)\n",
    "    img = cv2.rectangle(img,(0,0),(500,500),(255,255,255),-1)\n",
    "\n",
    "    if fig_name=='circle':\n",
    "        cv2.circle(img,(250,250),dim[0] , (0,0,255), -1)\n",
    "    \n",
    "    elif fig_name=='rectangle':\n",
    "        print(dim[0],dim[1])\n",
    "        cv2.rectangle(img,(250,250),(250-dim[0],250-dim[1]),(0,0,255), -1)\n",
    "\n",
    "    plt.imshow(img)\n",
    "    plt.grid()\n",
    "    plt.show()\n"
   ]
  },
  {
   "cell_type": "code",
   "execution_count": 326,
   "metadata": {
    "ExecuteTime": {
     "end_time": "2019-06-09T13:38:55.493475Z",
     "start_time": "2019-06-09T13:38:55.486579Z"
    },
    "run_control": {
     "marked": true
    }
   },
   "outputs": [],
   "source": [
    "query = 'Draw a rectangle of sides 300,100'\n",
    "query2 = 'Draw a circle of radius 100'"
   ]
  },
  {
   "cell_type": "code",
   "execution_count": 327,
   "metadata": {
    "ExecuteTime": {
     "end_time": "2019-06-09T13:38:55.688157Z",
     "start_time": "2019-06-09T13:38:55.499919Z"
    },
    "run_control": {
     "marked": true
    }
   },
   "outputs": [
    {
     "name": "stdout",
     "output_type": "stream",
     "text": [
      "300 100\n"
     ]
    },
    {
     "data": {
      "image/png": "[encoded data removed]",
      "text/plain": [
       "<Figure size 432x288 with 1 Axes>"
      ]
     },
     "metadata": {
      "needs_background": "light"
     },
     "output_type": "display_data"
    }
   ],
   "source": [
    "main(query)"
   ]
  },
  {
   "cell_type": "code",
   "execution_count": 328,
   "metadata": {
    "ExecuteTime": {
     "end_time": "2019-06-09T13:38:55.853824Z",
     "start_time": "2019-06-09T13:38:55.691222Z"
    }
   },
   "outputs": [
    {
     "data": {
      "image/png": "[encoded data removed]",
      "text/plain": [
       "<Figure size 432x288 with 1 Axes>"
      ]
     },
     "metadata": {
      "needs_background": "light"
     },
     "output_type": "display_data"
    }
   ],
   "source": [
    "main(query2)"
   ]
  }
 ],
 "metadata": {
  "kernelspec": {
   "display_name": "Python 3",
   "language": "python",
   "name": "python3"
  },
  "language_info": {
   "codemirror_mode": {
    "name": "ipython",
    "version": 3
   },
   "file_extension": ".py",
   "mimetype": "text/x-python",
   "name": "python",
   "nbconvert_exporter": "python",
   "pygments_lexer": "ipython3",
   "version": "3.6.5"
  },
  "toc": {
   "base_numbering": 1,
   "nav_menu": {},
   "number_sections": true,
   "sideBar": true,
   "skip_h1_title": false,
   "title_cell": "Table of Contents",
   "title_sidebar": "Contents",
   "toc_cell": true,
   "toc_position": {},
   "toc_section_display": true,
   "toc_window_display": false
  }
 },
 "nbformat": 4,
 "nbformat_minor": 2
}
